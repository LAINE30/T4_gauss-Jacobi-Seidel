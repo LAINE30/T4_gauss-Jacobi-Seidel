{
 "cells": [
  {
   "cell_type": "markdown",
   "metadata": {},
   "source": [
    "\n",
    "# Escuela Politécnica Nacional\n",
    "\n",
    "**Nombre:** Luis Coronado\n",
    "\n",
    "**Fecha:** 25/01/2025\n",
    "\n",
    "**Asignatura:** Métodos Numéricos  \n",
    "\n",
    "**Tema:** Métodos Iterativos para Sistemas de Ecuaciones Lineales\n"
   ]
  },
  {
   "cell_type": "markdown",
   "metadata": {},
   "source": [
    "## T4 - Gauss Jacobi - Seidel"
   ]
  },
  {
   "cell_type": "markdown",
   "metadata": {},
   "source": [
    "\n",
    "## Introducción a Gauss Jacobi - Seidel\n",
    "\n",
    "Los métodos de Gauss-Jacobi y Gauss-Seidel son algoritmos iterativos utilizados para resolver sistemas de ecuaciones lineales. Ambos métodos son especialmente útiles cuando se trabaja con matrices grandes y dispersas.\n",
    "\n",
    "### Método de Gauss-Jacobi\n",
    "El método de Gauss-Jacobi es un método iterativo que resuelve cada ecuación en el sistema de forma aislada, utilizando los valores de la iteración anterior. Este método es fácil de implementar pero puede ser lento para converger.\n"
   ]
  },
  {
   "cell_type": "code",
   "execution_count": 1,
   "metadata": {},
   "outputs": [],
   "source": [
    "%load_ext autoreload"
   ]
  },
  {
   "cell_type": "code",
   "execution_count": 22,
   "metadata": {},
   "outputs": [],
   "source": [
    "%autoreload 2\n",
    "from src import eliminacion_gaussiana\n",
    "from src import gauss_jacobi\n",
    "from src import gauss_seidel\n",
    "import numpy as np\n",
    "import matplotlib.pyplot as plt\n",
    "import logging\n",
    "\n"
   ]
  },
  {
   "cell_type": "code",
   "execution_count": 42,
   "metadata": {},
   "outputs": [
    {
     "name": "stdout",
     "output_type": "stream",
     "text": [
      "[01-25 08:50:50][INFO] i= 0 x: [1. 1.]\n",
      "[01-25 08:50:50][INFO] i= 1 x: [[3. 4.]]\n",
      "[01-25 08:50:50][INFO] i= 2 x: [[-12.   1.]]\n",
      "[01-25 08:50:50][INFO] i= 3 x: [[ 3.  23.5]]\n",
      "[01-25 08:50:50][INFO] i= 4 x: [[-109.5    1. ]]\n",
      "[01-25 08:50:50][INFO] i= 5 x: [[  3.   169.75]]\n",
      "[01-25 08:50:50][INFO] i= 6 x: [[-840.75    1.  ]]\n",
      "[01-25 08:50:50][INFO] i= 7 x: [[   3.    1266.625]]\n",
      "[01-25 08:50:50][INFO] i= 8 x: [[-6.325125e+03  1.000000e+00]]\n",
      "[01-25 08:50:50][INFO] i= 9 x: [[3.0000000e+00 9.4931875e+03]]\n",
      "[01-25 08:50:50][INFO] i= 10 x: [[-4.74579375e+04  1.00000000e+00]]\n",
      "[01-25 08:50:50][INFO] i= 11 x: [[3.00000000e+00 7.11924062e+04]]\n",
      "[01-25 08:50:50][INFO] i= 12 x: [[-3.55954031e+05  1.00000000e+00]]\n",
      "[01-25 08:50:50][INFO] i= 13 x: [[3.00000000e+00 5.33936547e+05]]\n",
      "[01-25 08:50:50][INFO] i= 14 x: [[-2.66967473e+06  1.00000000e+00]]\n",
      "[01-25 08:50:50][INFO] i= 15 x: [[3.0000000e+00 4.0045176e+06]]\n",
      "[01-25 08:50:50][INFO] i= 16 x: [[-2.002258e+07  1.000000e+00]]\n",
      "[01-25 08:50:50][INFO] i= 17 x: [[3.00000000e+00 3.00338755e+07]]\n",
      "[01-25 08:50:50][INFO] i= 18 x: [[-1.5016937e+08  1.0000000e+00]]\n",
      "[01-25 08:50:50][INFO] i= 19 x: [[3.0000000e+00 2.2525406e+08]]\n",
      "[01-25 08:50:50][INFO] i= 20 x: [[-1.12627029e+09  1.00000000e+00]]\n",
      "[01-25 08:50:50][INFO] i= 21 x: [[3.00000000e+00 1.68940544e+09]]\n",
      "[01-25 08:50:50][INFO] i= 22 x: [[-8.4470272e+09  1.0000000e+00]]\n",
      "[01-25 08:50:50][INFO] i= 23 x: [[3.00000000e+00 1.26705408e+10]]\n"
     ]
    },
    {
     "ename": "ValueError",
     "evalue": "not enough values to unpack (expected 3, got 2)",
     "output_type": "error",
     "traceback": [
      "\u001b[1;31m---------------------------------------------------------------------------\u001b[0m",
      "\u001b[1;31mValueError\u001b[0m                                Traceback (most recent call last)",
      "Cell \u001b[1;32mIn[42], line 10\u001b[0m\n\u001b[0;32m      7\u001b[0m tol \u001b[38;5;241m=\u001b[39m \u001b[38;5;241m1e-6\u001b[39m  \u001b[38;5;66;03m# Tolerancia\u001b[39;00m\n\u001b[0;32m      8\u001b[0m max_iter \u001b[38;5;241m=\u001b[39m \u001b[38;5;241m24\u001b[39m \u001b[38;5;66;03m# Máximo de iteraciones\u001b[39;00m\n\u001b[1;32m---> 10\u001b[0m x, tray, errores \u001b[38;5;241m=\u001b[39m gauss_jacobi(A\u001b[38;5;241m=\u001b[39mA, b\u001b[38;5;241m=\u001b[39mb, x0\u001b[38;5;241m=\u001b[39mx0, tol\u001b[38;5;241m=\u001b[39mtol, max_iter\u001b[38;5;241m=\u001b[39mmax_iter)\n\u001b[0;32m     12\u001b[0m \u001b[38;5;28mprint\u001b[39m(\u001b[38;5;124m\"\u001b[39m\u001b[38;5;124mSolución aproximada:\u001b[39m\u001b[38;5;124m\"\u001b[39m, x\u001b[38;5;241m.\u001b[39mT)\n\u001b[0;32m     13\u001b[0m \u001b[38;5;28mprint\u001b[39m(\u001b[38;5;124m\"\u001b[39m\u001b[38;5;124mNúmero de iteraciones realizadas:\u001b[39m\u001b[38;5;124m\"\u001b[39m, \u001b[38;5;28mlen\u001b[39m(tray))\n",
      "\u001b[1;31mValueError\u001b[0m: not enough values to unpack (expected 3, got 2)"
     ]
    }
   ],
   "source": [
    "## Ejemplo 1 - gauss_jacobi\n",
    "A = np.array([[2, 10],\n",
    "              [3, 2]], dtype=float)\n",
    "\n",
    "b = np.array([16, 11], dtype=float)\n",
    "x0 = np.array([1, 1], dtype=float)  # Vector inicial (x0)\n",
    "tol = 1e-6  # Tolerancia\n",
    "max_iter = 24 # Máximo de iteraciones\n",
    "\n",
    "x, tray, errores = gauss_jacobi(A=A, b=b, x0=x0, tol=tol, max_iter=max_iter)\n",
    "\n",
    "print(\"Solución aproximada:\", x.T)\n",
    "print(\"Número de iteraciones realizadas:\", len(tray))\n",
    "\n",
    "plt.figure(figsize=(8, 6))\n",
    "plt.plot(errores, marker='o', linestyle='-', color='b')\n",
    "plt.title('Convergencia del método de Jacobi')\n",
    "plt.xlabel('Número de iteraciones')\n",
    "plt.ylabel('Error ||x(k+1) - x(k)||')\n",
    "plt.yscale('log')  # Escala logarítmica para visualizar mejor la convergencia\n",
    "plt.grid(True)\n",
    "plt.show()\n",
    "\n",
    "\n"
   ]
  },
  {
   "cell_type": "code",
   "execution_count": 36,
   "metadata": {},
   "outputs": [
    {
     "name": "stdout",
     "output_type": "stream",
     "text": [
      "[01-25 08:42:15][INFO] i= 0 x: [1. 1.]\n",
      "[01-25 08:42:15][INFO] i= 1 x: [[3.  1.4]]\n",
      "[01-25 08:42:15][INFO] i= 2 x: [[2.73333333 1.        ]]\n",
      "[01-25 08:42:15][INFO] i= 3 x: [[3.         1.05333333]]\n",
      "[01-25 08:42:15][INFO] i= 4 x: [[2.96444444 1.        ]]\n",
      "[01-25 08:42:15][INFO] i= 5 x: [[3.         1.00711111]]\n",
      "[01-25 08:42:15][INFO] i= 6 x: [[2.99525926 1.        ]]\n",
      "[01-25 08:42:15][INFO] i= 7 x: [[3.         1.00094815]]\n",
      "[01-25 08:42:15][INFO] i= 8 x: [[2.9993679 1.       ]]\n",
      "[01-25 08:42:15][INFO] i= 9 x: [[3.         1.00012642]]\n",
      "[01-25 08:42:15][INFO] i= 10 x: [[2.99991572 1.        ]]\n",
      "[01-25 08:42:15][INFO] i= 11 x: [[3.         1.00001686]]\n",
      "[01-25 08:42:15][INFO] i= 12 x: [[2.99998876 1.        ]]\n",
      "[01-25 08:42:15][INFO] i= 13 x: [[3.         1.00000225]]\n",
      "[01-25 08:42:15][INFO] i= 14 x: [[2.9999985 1.       ]]\n",
      "[01-25 08:42:15][INFO] i= 15 x: [[3.        1.0000003]]\n",
      "Solución aproximada: [[2.9999998 1.       ]]\n",
      "Número de iteraciones realizadas: 16\n"
     ]
    }
   ],
   "source": [
    "## Ejemplo 2 - gauss_jacobi\n",
    "A = np.array([[3, 2],\n",
    "             [2, 10]],\n",
    "               dtype=float)\n",
    "\n",
    "b = np.array([11, 16], dtype=float)\n",
    "x0 = np.array([1, 1], dtype=float)  # Vector inicial (x0)\n",
    "tol = 1e-6  # Tolerancia\n",
    "max_iter = 22 # Máximo de iteraciones\n",
    "\n",
    "x, tray = gauss_jacobi(A=A, b=b, x0=x0, tol=tol, max_iter=max_iter)\n",
    "\n",
    "# Mostramos el resultado\n",
    "print(\"Solución aproximada:\", x.T)\n",
    "print(\"Número de iteraciones realizadas:\", len(tray))"
   ]
  },
  {
   "cell_type": "markdown",
   "metadata": {},
   "source": [
    "\n",
    "### Método de Gauss-Seidel\n",
    "El método de Gauss-Seidel es una mejora del método de Gauss-Jacobi. En lugar de utilizar solo los valores de la iteración anterior, este método utiliza los valores más recientes disponibles, lo que generalmente conduce a una convergencia más rápida.\n",
    "\n",
    "Ambos métodos son fundamentales en el análisis numérico y se utilizan en diversas aplicaciones de ingeniería y ciencias.\n"
   ]
  },
  {
   "cell_type": "code",
   "execution_count": null,
   "metadata": {},
   "outputs": [],
   "source": [
    "## Ejemplo 1 - gauss_seidel\n",
    "A = np.array([[2, 10],\n",
    "              [3, 2]], dtype=float)\n",
    "\n",
    "b = np.array([16, 11], dtype=float)\n",
    "x0 = np.array([1, 1], dtype=float)  # Vector inicial (x0)\n",
    "tol = 1e-6  # Tolerancia\n",
    "max_iter = 24 # Máximo de iteraciones\n",
    "\n",
    "x, tray = gauss_seidel(A=A, b=b, x0=x0, tol=tol, max_iter=max_iter)\n",
    "\n",
    "print(\"Solución aproximada:\", x.T)\n",
    "print(\"Número de iteraciones realizadas:\", len(tray))\n"
   ]
  },
  {
   "cell_type": "code",
   "execution_count": 27,
   "metadata": {},
   "outputs": [
    {
     "name": "stdout",
     "output_type": "stream",
     "text": [
      "[01-25 08:27:37][INFO] i= 0 x: [1. 1.]\n",
      "[01-25 08:27:37][INFO] i= 1 x: [[3. 1.]]\n",
      "Solución aproximada: [[3. 1.]]\n",
      "Número de iteraciones realizadas: 2\n"
     ]
    }
   ],
   "source": [
    "## Ejemplo 1 - gauss_seidel\n",
    "A = np.array([[3, 2],\n",
    "             [2, 10]],\n",
    "               dtype=float)\n",
    "\n",
    "b = np.array([11, 16], dtype=float)\n",
    "x0 = np.array([1, 1], dtype=float)  # Vector inicial (x0)\n",
    "tol = 1e-6  # Tolerancia\n",
    "max_iter = 22 # Máximo de iteraciones\n",
    "\n",
    "x, tray = gauss_seidel(A=A, b=b, x0=x0, tol=tol, max_iter=max_iter)\n",
    "\n",
    "# Mostramos el resultado\n",
    "print(\"Solución aproximada:\", x.T)\n",
    "print(\"Número de iteraciones realizadas:\", len(tray))"
   ]
  },
  {
   "cell_type": "code",
   "execution_count": null,
   "metadata": {},
   "outputs": [],
   "source": []
  }
 ],
 "metadata": {
  "kernelspec": {
   "display_name": "Python 3",
   "language": "python",
   "name": "python3"
  },
  "language_info": {
   "codemirror_mode": {
    "name": "ipython",
    "version": 3
   },
   "file_extension": ".py",
   "mimetype": "text/x-python",
   "name": "python",
   "nbconvert_exporter": "python",
   "pygments_lexer": "ipython3",
   "version": "3.13.0"
  }
 },
 "nbformat": 4,
 "nbformat_minor": 2
}
