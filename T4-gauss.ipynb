{
 "cells": [
  {
   "cell_type": "markdown",
   "metadata": {},
   "source": [
    "# T4 - Gauss Jacobi - Seidel"
   ]
  },
  {
   "cell_type": "markdown",
   "metadata": {},
   "source": [
    "```markdown\n",
    "## Introducción a Gauss Jacobi - Seidel\n",
    "\n",
    "Los métodos de Gauss-Jacobi y Gauss-Seidel son algoritmos iterativos utilizados para resolver sistemas de ecuaciones lineales. Ambos métodos son especialmente útiles cuando se trabaja con matrices grandes y dispersas.\n",
    "\n",
    "### Método de Gauss-Jacobi\n",
    "El método de Gauss-Jacobi es un método iterativo que resuelve cada ecuación en el sistema de forma aislada, utilizando los valores de la iteración anterior. Este método es fácil de implementar pero puede ser lento para converger.\n",
    "\n",
    "### Método de Gauss-Seidel\n",
    "El método de Gauss-Seidel es una mejora del método de Gauss-Jacobi. En lugar de utilizar solo los valores de la iteración anterior, este método utiliza los valores más recientes disponibles, lo que generalmente conduce a una convergencia más rápida.\n",
    "\n",
    "Ambos métodos son fundamentales en el análisis numérico y se utilizan en diversas aplicaciones de ingeniería y ciencias.\n",
    "```"
   ]
  }
 ],
 "metadata": {
  "language_info": {
   "name": "python"
  }
 },
 "nbformat": 4,
 "nbformat_minor": 2
}
